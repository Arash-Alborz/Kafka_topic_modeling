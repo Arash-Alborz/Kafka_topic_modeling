{
 "cells": [
  {
   "cell_type": "code",
   "execution_count": 6,
   "id": "47c390eb",
   "metadata": {},
   "outputs": [],
   "source": [
    "# === Load config ===\n",
    "\n",
    "from config import (\n",
    "    DATA_DIR, METADATA_PATH,\n",
    "    OUTPUT_DIR, VISUALS_DIR, CSV_DIR,\n",
    "    NUM_TOPICS, MAX_DF, MIN_DF\n",
    ")"
   ]
  },
  {
   "cell_type": "code",
   "execution_count": 3,
   "id": "00427b0e",
   "metadata": {},
   "outputs": [],
   "source": [
    "'''\n",
    "loading text chunks\n",
    "'''\n",
    "\n",
    "from pathlib import Path\n",
    "\n",
    "texts = []\n",
    "filenames = []\n",
    "\n",
    "for file in sorted(DATA_DIR.glob(\"*.txt\")):\n",
    "    with open(file, \"r\", encoding=\"utf-8\") as f:\n",
    "        texts.append(f.read())\n",
    "        filenames.append(file.name)"
   ]
  },
  {
   "cell_type": "code",
   "execution_count": 4,
   "id": "f399c2ec",
   "metadata": {},
   "outputs": [
    {
     "name": "stderr",
     "output_type": "stream",
     "text": [
      "/opt/anaconda3/envs/kafka_topic_modeling/lib/python3.10/site-packages/requests/__init__.py:86: RequestsDependencyWarning: Unable to find acceptable character detection dependency (chardet or charset_normalizer).\n",
      "  warnings.warn(\n"
     ]
    }
   ],
   "source": [
    "# Preprocessing using spaCy\n",
    "\n",
    "import spacy\n",
    "\n",
    "# load German spacy model\n",
    "nlp = spacy.load(\"de_core_news_sm\")  # or \"de_core_news_md\" / \"de_core_news_lg\" or \"de_core_news_sm\"\n",
    "\n",
    "def preprocess(text):\n",
    "    doc = nlp(text)\n",
    "    return \" \".join([\n",
    "        token.lemma_.lower()\n",
    "        for token in doc\n",
    "        if token.pos_ in [\"NOUN\", \"VERB\", \"ADJ\"]\n",
    "        and not token.is_stop\n",
    "        and token.is_alpha\n",
    "    ])\n",
    "\n",
    "texts_cleaned = [preprocess(text) for text in texts]"
   ]
  },
  {
   "cell_type": "code",
   "execution_count": 5,
   "id": "029dd80f",
   "metadata": {},
   "outputs": [
    {
     "name": "stdout",
     "output_type": "stream",
     "text": [
      "✔️ Saved cleaned texts to: /Users/arashalborz/PROJECTS/kafka_topic_modeling/results/csv_outputs/cleaned_chunks.csv\n"
     ]
    }
   ],
   "source": [
    "'''\n",
    "save cleaned texts to CSV\n",
    "'''\n",
    "\n",
    "import pandas as pd\n",
    "\n",
    "df_cleaned = pd.DataFrame({\n",
    "    \"filename\": filenames,\n",
    "    \"text\": texts_cleaned\n",
    "})\n",
    "\n",
    "df_cleaned.to_csv(CSV_DIR / \"cleaned_chunks.csv\", index=False)\n",
    "print(\"✔️ Saved cleaned texts to:\", CSV_DIR / \"cleaned_chunks.csv\")"
   ]
  }
 ],
 "metadata": {
  "kernelspec": {
   "display_name": "kafka_topic_modeling",
   "language": "python",
   "name": "python3"
  },
  "language_info": {
   "codemirror_mode": {
    "name": "ipython",
    "version": 3
   },
   "file_extension": ".py",
   "mimetype": "text/x-python",
   "name": "python",
   "nbconvert_exporter": "python",
   "pygments_lexer": "ipython3",
   "version": "3.10.16"
  }
 },
 "nbformat": 4,
 "nbformat_minor": 5
}
